{
 "cells": [
  {
   "cell_type": "markdown",
   "id": "d3f1d6bd-cf9d-4df8-af75-3fe0ef189780",
   "metadata": {},
   "source": [
    "Q1. What is a database? Differentiate between SQL and NoSQL databases."
   ]
  },
  {
   "cell_type": "markdown",
   "id": "87d21d57-875c-45c9-916d-9f5a527495c1",
   "metadata": {},
   "source": [
    "Ans:---\n",
    "\n",
    "A database is like a digital filing cabinet where we can store and organize information. It helps software applications (like websites or apps) to keep track of lots of data efficiently.\n",
    "\n",
    "1)SQL(Structured Query Language):\n",
    "\n",
    "a)SQL has fixed compartments for diiferent types of information.\n",
    "\n",
    "b)It has table with fixed coloumns and rows\n",
    "\n",
    "c)SQL databases are often vertically scalable, relying on hardware upgrades for increased capacity.\n",
    "\n",
    "\n",
    "\n",
    "2)NoSQL(Not Only Structured Query Language):\n",
    "\n",
    "a)It does not has fixed compartments means we can create some new things\n",
    "\n",
    "b)It does not have only table and coloumn ,it has more options data models like graph,document,key-value.\n",
    "\n",
    "c)NoSQL databases are often horizontally scalable, distributing data across multiple servers for better performance and handling large-scale data.\n",
    "\n"
   ]
  },
  {
   "cell_type": "markdown",
   "id": "e47a854f-be3d-4778-8a7f-df010cb65090",
   "metadata": {},
   "source": [
    "Q2. What is DDL? Explain why CREATE, DROP, ALTER, and TRUNCATE are used with an example."
   ]
  },
  {
   "cell_type": "markdown",
   "id": "b2b3ee18-4048-4cf9-8e0c-1fd41f6a1174",
   "metadata": {},
   "source": [
    "Ans:---\n",
    "1)DDL stands for Data Definition Language, which is a subset of SQL used to define and manage the structure of a database.\n",
    "\n",
    "2)They are used to create, modify, and delete database objects like tables, indexes, and views. These statements do not manipulate the data itself but rather the schema and structure of the database.\n",
    "\n",
    "a)CREATE:\n",
    "The CREATE statement is used to create new database objects, such as tables, indexes, views, or stored procedures. \n",
    "\n",
    "b)DROP:\n",
    "The DROP statement is used to delete existing database objects like tables, indexes, or views.\n",
    "\n",
    "c)ALTER:\n",
    "The ALTER statement is used to modify existing database objects. We can use it to add, modify, or delete columns from a table, change data types, or add constraints.\n",
    "\n",
    "d)TRUNCATE: \n",
    "The TRUNCATE statement is used to remove all rows from a table, but it keeps the table structure intact.TRUNCATE doesn't delete the table itself, and it's faster than using DELETE to remove all rows."
   ]
  },
  {
   "cell_type": "code",
   "execution_count": null,
   "id": "fef19695-5899-4bd9-8326-49ac7eac12e1",
   "metadata": {},
   "outputs": [],
   "source": [
    "##CREATE\n",
    "\n",
    "create table student_details(\n",
    "    age INT \n",
    "    first_name VARCHAR(50),\n",
    "    last_name VARCHAR(50),\n",
    "    department VARCHAR(100))\n",
    "\n",
    "###DROP\n",
    "\n",
    "drop table  student_details\n",
    "\n",
    "\n",
    "###ALTER \n",
    "\n",
    "alter table student_details\n",
    "add phone_number date\n",
    "\n",
    "###TRUNCATE \n",
    "\n",
    "truncate table student_details"
   ]
  },
  {
   "cell_type": "markdown",
   "id": "48edcfe9-a8bb-4a63-9218-41c554fa0f58",
   "metadata": {},
   "source": [
    "Q3. What is DML? Explain INSERT, UPDATE, and DELETE with an example."
   ]
  },
  {
   "cell_type": "markdown",
   "id": "6032cd2f-c381-4868-bd0f-0ee9bb2b91db",
   "metadata": {},
   "source": [
    "Ans:---\n",
    "1)DML stands for Data Manipulation Language, which is another subset of SQL,whichis used to manipulate data within database.\n",
    "\n",
    "2)DML statements are used to insert, update, and delete data from database tables.\n",
    "\n",
    "a)INSERT: \n",
    "The INSERT statement is used to add new rows (records) into a table. It allows us to specify the values for each column of the table. \n",
    "\n",
    "b)UPDATE: \n",
    "The UPDATE statement is used to modify existing data in a table. It allows us to change the values of specific columns in one or more rows based on certain conditions.\n",
    "\n",
    "c)DELETE:\n",
    "The DELETE statement is used to remove rows from a table based on specified conditions. It allows us  to delete one or more rows that match a certain criteria."
   ]
  },
  {
   "cell_type": "code",
   "execution_count": null,
   "id": "2cb71b40-f6d7-4ead-b188-89e6f2d53f58",
   "metadata": {},
   "outputs": [],
   "source": [
    "###INSERT\n",
    "\n",
    "insert  into student_details (age, first_name, last_name, department)\n",
    "values (20, \"navid\", 'khan', 'computer_science');\n",
    "\n",
    "###UPDATE\n",
    "\n",
    "update student_details\n",
    "set department=\"physics\"\n",
    "where age=20\n",
    "\n",
    "###DELETE\n",
    "\n",
    "delete from student_details\n",
    "where age=20"
   ]
  },
  {
   "cell_type": "markdown",
   "id": "2ac94efb-a171-4187-a2b9-c9b893065780",
   "metadata": {},
   "source": [
    "Q4. What is DQL? Explain SELECT with an example."
   ]
  },
  {
   "cell_type": "markdown",
   "id": "b6e7e727-799d-41da-a7b9-bf41aa4c5443",
   "metadata": {},
   "source": [
    "Ans:---\n",
    "1)DQL stands for Data Query Language, which is a subset of SQL (Structured Query Language) used for retrieving and querying data from a database. \n",
    "\n",
    "2)The SELECT statement, which allows us to retrieve specific data from one or more database tables based on certain criteria."
   ]
  },
  {
   "cell_type": "markdown",
   "id": "d9929b7a-5d28-462f-960f-b594a20abf71",
   "metadata": {},
   "source": [
    "\n",
    "\n",
    "####example\n",
    "\n",
    "| book_id | title                  | author         | genre     |\n",
    "|---------|------------------      |----------------|-----------|\n",
    "| 1       | THINK AND GROW RICH    |NAPOLEON HILL   | CLASSIC   |\n",
    "| 2       | THE POWER POWER OF     | JOSEPH MURPHY  |           |\n",
    "          |SUBCONSIOUS MIND        |                | CLASSIC   |\n",
    "| 3       | 1984                   | George Orwell  | Dystopia  |\n",
    "\n",
    "**Example of SELECT statement:**\n",
    "\n",
    "```sql\n",
    "SELECT title, genre FROM Books WHERE author= \"JOSEPH MURPHY\";\n",
    "```\n",
    "\n",
    "**Result:**\n",
    "\n",
    "| title              | genre       |\n",
    "|---------------     |-------------|\n",
    "|  THE POWER POWER OF| CLASSIC     |\n",
    "| SUBCONSIOUS MIND   |             |\n"
   ]
  },
  {
   "cell_type": "markdown",
   "id": "eccf98ce-ca63-473b-8af0-a253e003a284",
   "metadata": {},
   "source": [
    "Q5. Explain Primary Key and Foreign Key."
   ]
  },
  {
   "cell_type": "markdown",
   "id": "f5a820b2-0d66-4f99-bbf7-ce188829e255",
   "metadata": {},
   "source": [
    "Ans:---\n",
    "\n",
    "1)Primary Key:\n",
    "\n",
    "A primary key is a column or a combination of columns in a database table that uniquely identifies each row in that table. It enforces data integrity and ensures that there are no duplicate or null values in the primary key column. In most database systems, a primary key is automatically indexed, which allows for fast data retrieval.\n",
    "\n",
    "a)Uniquely identifies each row in a table.\n",
    "b)Ensures no duplicate or null values.\n",
    "c)Often used as a reference in relationships with other tables.\n",
    "\n",
    "2)Foreign Key:\n",
    "\n",
    "A foreign key is a column or a combination of columns in one table that refers to the primary key of another table. It establishes a relationship between two tables, allowing data in one table to be linked and associated with data in another table.\n",
    "\n",
    "\n",
    "a)Establishes a link between two tables.\n",
    "b)References the primary key of another table.\n",
    "c)Maintains data integrity and consistency between related tables.\n"
   ]
  },
  {
   "cell_type": "markdown",
   "id": "1f1e787d-2e7f-4a82-b9ba-e5f40f9005ee",
   "metadata": {},
   "source": [
    "Q6. Write a python code to connect MySQL to python. Explain the cursor() and execute() method."
   ]
  },
  {
   "cell_type": "markdown",
   "id": "b4c2fd5b-1796-4f59-97b9-e08243c1aa30",
   "metadata": {},
   "source": [
    "Ans:---\n",
    "import mysql.connector\n",
    "\n",
    "mydb = mysql.connector.connect(\n",
    "  host=\"localhost\",\n",
    "  user=\"abc\",\n",
    "  password=\"password\"\n",
    ")\n",
    "\n",
    "mycursor = mydb.cursor()\n",
    "mycursor.execute(\"insert into test2.test_table values(70,'mustaqeem',True,90.89,'siddiqui')\")"
   ]
  },
  {
   "cell_type": "markdown",
   "id": "03ca8072-c96b-40ce-84d2-26dfcba7e67b",
   "metadata": {},
   "source": [
    "1)cursor():\n",
    "\n",
    "The cursor() method is called on the MySQL connection object. It returns a cursor object, which is used to interact with the database and execute SQL queries.\n",
    "\n",
    "\n",
    "2)execute(): \n",
    "\n",
    "The execute() method is used on the cursor object to execute SQL queries. It takes the SQL query as a parameter and runs it against the connected database. In the example, we executed a SELECT query to retrieve data from the \"student_details\" table."
   ]
  },
  {
   "cell_type": "markdown",
   "id": "950b145e-4121-44b9-8328-d0182f5bcf44",
   "metadata": {},
   "source": [
    "Q7. Give the order of execution of SQL clauses in an SQL query."
   ]
  },
  {
   "cell_type": "markdown",
   "id": "c2edff0d-9c31-4edd-afb5-58e5411b768a",
   "metadata": {},
   "source": [
    "Ans:---\n",
    "\n",
    "SQL (Structured Query Language) clauses are keywords or commands used to define various parts of an SQL query. These clauses are used to perform different operations on the data stored in a database. Each clause serves a specific purpose and helps in retrieving, modifying, or managing data within a database. Some of the essential SQL clauses include:\n",
    "\n",
    "1.**SELECT:** Used to retrieve data from one or more database tables.\n",
    "\n",
    "2.**FROM:** Specifies the table(s) from which data will be retrieved.\n",
    "\n",
    "3.**JOIN:** Used to combine rows from multiple tables based on related columns.\n",
    "\n",
    "4.**WHERE:** Filters the rows based on specified conditions.\n",
    "\n",
    "5.**GROUP BY:** Groups the result set based on one or more columns for aggregation.\n",
    "\n",
    "6.**HAVING:** Filters groups formed by the GROUP BY clause based on aggregate conditions.\n",
    "\n",
    "7.**ORDER BY:** Sorts the result set based on specified columns in ascending or descending order.\n",
    "\n",
    "8.**DISTINCT:** Eliminates duplicate rows from the result set.\n",
    "\n",
    "9.**INSERT INTO:** Adds new rows (records) into a table.\n",
    "\n",
    "10.**UPDATE:** Modifies existing data in a table.\n",
    "\n",
    "11.**DELETE:** Removes rows from a table based on specified conditions.\n",
    "\n",
    "12.**CREATE TABLE:** Creates a new database table with specified columns and data types.\n",
    "\n",
    "13.**ALTER TABLE:** Modifies the structure of an existing database table.\n",
    "\n",
    "14.**DROP TABLE:** Removes an entire database table and its data.\n",
    "\n",
    "15.**TRUNCATE TABLE:** Removes all rows from a table, but keeps the table structure intact.\n",
    "\n",
    "16.**INDEX:** Creates an index on a column(s) to improve query performance.\n",
    "\n",
    "17.**GRANT:** Assigns specific privileges to users or roles.\n",
    "\n",
    "18.**REVOKE:** Removes specific privileges from users or roles.\n",
    "\n"
   ]
  },
  {
   "cell_type": "code",
   "execution_count": null,
   "id": "3c2275d2-93fc-4e97-9e53-d93d4ad157d4",
   "metadata": {},
   "outputs": [],
   "source": []
  }
 ],
 "metadata": {
  "kernelspec": {
   "display_name": "Python 3 (ipykernel)",
   "language": "python",
   "name": "python3"
  },
  "language_info": {
   "codemirror_mode": {
    "name": "ipython",
    "version": 3
   },
   "file_extension": ".py",
   "mimetype": "text/x-python",
   "name": "python",
   "nbconvert_exporter": "python",
   "pygments_lexer": "ipython3",
   "version": "3.10.8"
  }
 },
 "nbformat": 4,
 "nbformat_minor": 5
}
